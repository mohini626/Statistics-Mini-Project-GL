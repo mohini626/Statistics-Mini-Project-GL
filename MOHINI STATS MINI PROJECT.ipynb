{
 "cells": [
  {
   "cell_type": "markdown",
   "metadata": {},
   "source": [
    "# <CENTER>STATISTICS MINI PROJECT</CENTER>"
   ]
  },
  {
   "cell_type": "markdown",
   "metadata": {},
   "source": [
    "# <CENTER>AUTHOR:MOHINI MARATHE</CENTER>"
   ]
  },
  {
   "cell_type": "code",
   "execution_count": 1,
   "metadata": {},
   "outputs": [],
   "source": [
    "#importing required libraries\n",
    "\n",
    "import numpy as np\n",
    "import pandas as pd\n",
    "import seaborn as sns\n",
    "import matplotlib.pyplot as plt\n",
    "import warnings\n",
    "warnings.filterwarnings(action=\"ignore\")\n",
    "import statistics\n",
    "from scipy import stats\n",
    "from scipy.stats import shapiro\n",
    "from scipy.stats import levene\n",
    "from statsmodels.stats.proportion import proportions_ztest\n",
    "from statsmodels.stats import weightstats as stests\n",
    "from scipy.stats import ttest_1samp,ttest_ind,ttest_rel\n",
    "from scipy.stats import chisquare\n",
    "from scipy.stats import chi2\n",
    "from scipy.stats import chi2_contingency\n",
    "\n",
    "\n",
    "from statsmodels.formula.api import ols\n",
    "from statsmodels.stats.anova import anova_lm\n",
    "import scikit_posthocs"
   ]
  },
  {
   "cell_type": "markdown",
   "metadata": {},
   "source": [
    "# 1. Perform the following statistical analysis on the fifa world cup dataset. The dataset consists of player information which includes height, weight overall rating, potential etc. Data Cleaning and basic EDA process needs to be performed. "
   ]
  },
  {
   "cell_type": "markdown",
   "metadata": {},
   "source": [
    "Note: \n",
    "1) Perform all the Statistical analysis with 5%(Significance level). \n",
    "2) Perform the test of normality and test of variance in the appropriate places.\n"
   ]
  },
  {
   "cell_type": "code",
   "execution_count": 2,
   "metadata": {},
   "outputs": [
    {
     "data": {
      "text/html": [
       "<div>\n",
       "<style scoped>\n",
       "    .dataframe tbody tr th:only-of-type {\n",
       "        vertical-align: middle;\n",
       "    }\n",
       "\n",
       "    .dataframe tbody tr th {\n",
       "        vertical-align: top;\n",
       "    }\n",
       "\n",
       "    .dataframe thead th {\n",
       "        text-align: right;\n",
       "    }\n",
       "</style>\n",
       "<table border=\"1\" class=\"dataframe\">\n",
       "  <thead>\n",
       "    <tr style=\"text-align: right;\">\n",
       "      <th></th>\n",
       "      <th>Name</th>\n",
       "      <th>Age</th>\n",
       "      <th>Nationality</th>\n",
       "      <th>Overall_rating</th>\n",
       "      <th>Potential</th>\n",
       "      <th>Club</th>\n",
       "      <th>Preferred Foot</th>\n",
       "      <th>International Reputation</th>\n",
       "      <th>Weak Foot</th>\n",
       "      <th>Skill Moves</th>\n",
       "      <th>Work Rate</th>\n",
       "      <th>Position</th>\n",
       "      <th>Jersey Number</th>\n",
       "      <th>Height</th>\n",
       "      <th>Weight</th>\n",
       "    </tr>\n",
       "  </thead>\n",
       "  <tbody>\n",
       "    <tr>\n",
       "      <th>0</th>\n",
       "      <td>L. Messi</td>\n",
       "      <td>31</td>\n",
       "      <td>Argentina</td>\n",
       "      <td>94</td>\n",
       "      <td>94</td>\n",
       "      <td>FC Barcelona</td>\n",
       "      <td>Left</td>\n",
       "      <td>5</td>\n",
       "      <td>4</td>\n",
       "      <td>4</td>\n",
       "      <td>Medium/ Medium</td>\n",
       "      <td>RF</td>\n",
       "      <td>10</td>\n",
       "      <td>5.583333</td>\n",
       "      <td>159</td>\n",
       "    </tr>\n",
       "    <tr>\n",
       "      <th>1</th>\n",
       "      <td>Cristiano Ronaldo</td>\n",
       "      <td>33</td>\n",
       "      <td>Portugal</td>\n",
       "      <td>94</td>\n",
       "      <td>94</td>\n",
       "      <td>Juventus</td>\n",
       "      <td>Right</td>\n",
       "      <td>5</td>\n",
       "      <td>4</td>\n",
       "      <td>5</td>\n",
       "      <td>High/ Low</td>\n",
       "      <td>ST</td>\n",
       "      <td>7</td>\n",
       "      <td>6.166667</td>\n",
       "      <td>183</td>\n",
       "    </tr>\n",
       "    <tr>\n",
       "      <th>2</th>\n",
       "      <td>Neymar Jr</td>\n",
       "      <td>26</td>\n",
       "      <td>Brazil</td>\n",
       "      <td>92</td>\n",
       "      <td>93</td>\n",
       "      <td>Paris Saint-Germain</td>\n",
       "      <td>Right</td>\n",
       "      <td>5</td>\n",
       "      <td>5</td>\n",
       "      <td>5</td>\n",
       "      <td>High/ Medium</td>\n",
       "      <td>LW</td>\n",
       "      <td>10</td>\n",
       "      <td>5.750000</td>\n",
       "      <td>150</td>\n",
       "    </tr>\n",
       "    <tr>\n",
       "      <th>3</th>\n",
       "      <td>De Gea</td>\n",
       "      <td>27</td>\n",
       "      <td>Spain</td>\n",
       "      <td>91</td>\n",
       "      <td>93</td>\n",
       "      <td>Manchester United</td>\n",
       "      <td>Right</td>\n",
       "      <td>4</td>\n",
       "      <td>3</td>\n",
       "      <td>1</td>\n",
       "      <td>Medium/ Medium</td>\n",
       "      <td>GK</td>\n",
       "      <td>1</td>\n",
       "      <td>6.333333</td>\n",
       "      <td>168</td>\n",
       "    </tr>\n",
       "    <tr>\n",
       "      <th>4</th>\n",
       "      <td>K. De Bruyne</td>\n",
       "      <td>27</td>\n",
       "      <td>Belgium</td>\n",
       "      <td>91</td>\n",
       "      <td>92</td>\n",
       "      <td>Manchester City</td>\n",
       "      <td>Right</td>\n",
       "      <td>4</td>\n",
       "      <td>5</td>\n",
       "      <td>4</td>\n",
       "      <td>High/ High</td>\n",
       "      <td>RCM</td>\n",
       "      <td>7</td>\n",
       "      <td>5.083333</td>\n",
       "      <td>154</td>\n",
       "    </tr>\n",
       "  </tbody>\n",
       "</table>\n",
       "</div>"
      ],
      "text/plain": [
       "                Name  Age Nationality  Overall_rating  Potential  \\\n",
       "0           L. Messi   31   Argentina              94         94   \n",
       "1  Cristiano Ronaldo   33    Portugal              94         94   \n",
       "2          Neymar Jr   26      Brazil              92         93   \n",
       "3             De Gea   27       Spain              91         93   \n",
       "4       K. De Bruyne   27     Belgium              91         92   \n",
       "\n",
       "                  Club Preferred Foot  International Reputation  Weak Foot  \\\n",
       "0         FC Barcelona           Left                         5          4   \n",
       "1             Juventus          Right                         5          4   \n",
       "2  Paris Saint-Germain          Right                         5          5   \n",
       "3    Manchester United          Right                         4          3   \n",
       "4      Manchester City          Right                         4          5   \n",
       "\n",
       "   Skill Moves       Work Rate Position  Jersey Number    Height  Weight  \n",
       "0            4  Medium/ Medium       RF             10  5.583333     159  \n",
       "1            5       High/ Low       ST              7  6.166667     183  \n",
       "2            5    High/ Medium       LW             10  5.750000     150  \n",
       "3            1  Medium/ Medium       GK              1  6.333333     168  \n",
       "4            4      High/ High      RCM              7  5.083333     154  "
      ]
     },
     "execution_count": 2,
     "metadata": {},
     "output_type": "execute_result"
    }
   ],
   "source": [
    "#dataset loading\n",
    "df=pd.read_csv(\"fifa_stats.csv\")\n",
    "df.head()"
   ]
  },
  {
   "cell_type": "code",
   "execution_count": 66,
   "metadata": {},
   "outputs": [
    {
     "data": {
      "text/plain": [
       "Name                         0\n",
       "Age                          0\n",
       "Nationality                  0\n",
       "Overall_rating               0\n",
       "Potential                    0\n",
       "Club                        19\n",
       "Preferred Foot               0\n",
       "International Reputation     0\n",
       "Weak Foot                    0\n",
       "Skill Moves                  0\n",
       "Work Rate                    0\n",
       "Position                     0\n",
       "Jersey Number                0\n",
       "Height                       0\n",
       "Weight                       0\n",
       "dtype: int64"
      ]
     },
     "execution_count": 66,
     "metadata": {},
     "output_type": "execute_result"
    }
   ],
   "source": [
    "df.isna().sum()"
   ]
  },
  {
   "cell_type": "code",
   "execution_count": 195,
   "metadata": {},
   "outputs": [
    {
     "data": {
      "text/html": [
       "<div>\n",
       "<style scoped>\n",
       "    .dataframe tbody tr th:only-of-type {\n",
       "        vertical-align: middle;\n",
       "    }\n",
       "\n",
       "    .dataframe tbody tr th {\n",
       "        vertical-align: top;\n",
       "    }\n",
       "\n",
       "    .dataframe thead th {\n",
       "        text-align: right;\n",
       "    }\n",
       "</style>\n",
       "<table border=\"1\" class=\"dataframe\">\n",
       "  <thead>\n",
       "    <tr style=\"text-align: right;\">\n",
       "      <th></th>\n",
       "      <th>Age</th>\n",
       "      <th>Overall_rating</th>\n",
       "      <th>Potential</th>\n",
       "      <th>International Reputation</th>\n",
       "      <th>Weak Foot</th>\n",
       "      <th>Skill Moves</th>\n",
       "      <th>Jersey Number</th>\n",
       "      <th>Height</th>\n",
       "      <th>Weight</th>\n",
       "    </tr>\n",
       "  </thead>\n",
       "  <tbody>\n",
       "    <tr>\n",
       "      <th>count</th>\n",
       "      <td>2000.000000</td>\n",
       "      <td>2000.000000</td>\n",
       "      <td>2000.000000</td>\n",
       "      <td>2000.000000</td>\n",
       "      <td>2000.000000</td>\n",
       "      <td>2000.000000</td>\n",
       "      <td>2000.000000</td>\n",
       "      <td>2000.000000</td>\n",
       "      <td>2000.000000</td>\n",
       "    </tr>\n",
       "    <tr>\n",
       "      <th>mean</th>\n",
       "      <td>27.231500</td>\n",
       "      <td>78.197000</td>\n",
       "      <td>80.303500</td>\n",
       "      <td>1.774500</td>\n",
       "      <td>3.204000</td>\n",
       "      <td>2.919500</td>\n",
       "      <td>15.205500</td>\n",
       "      <td>5.781042</td>\n",
       "      <td>169.478000</td>\n",
       "    </tr>\n",
       "    <tr>\n",
       "      <th>std</th>\n",
       "      <td>3.859061</td>\n",
       "      <td>3.285969</td>\n",
       "      <td>4.114104</td>\n",
       "      <td>0.811775</td>\n",
       "      <td>0.728457</td>\n",
       "      <td>0.964098</td>\n",
       "      <td>13.210508</td>\n",
       "      <td>0.443337</td>\n",
       "      <td>16.050306</td>\n",
       "    </tr>\n",
       "    <tr>\n",
       "      <th>min</th>\n",
       "      <td>17.000000</td>\n",
       "      <td>75.000000</td>\n",
       "      <td>75.000000</td>\n",
       "      <td>1.000000</td>\n",
       "      <td>1.000000</td>\n",
       "      <td>1.000000</td>\n",
       "      <td>1.000000</td>\n",
       "      <td>5.083333</td>\n",
       "      <td>123.000000</td>\n",
       "    </tr>\n",
       "    <tr>\n",
       "      <th>25%</th>\n",
       "      <td>24.000000</td>\n",
       "      <td>76.000000</td>\n",
       "      <td>77.000000</td>\n",
       "      <td>1.000000</td>\n",
       "      <td>3.000000</td>\n",
       "      <td>2.000000</td>\n",
       "      <td>7.000000</td>\n",
       "      <td>5.500000</td>\n",
       "      <td>159.000000</td>\n",
       "    </tr>\n",
       "    <tr>\n",
       "      <th>50%</th>\n",
       "      <td>27.000000</td>\n",
       "      <td>77.000000</td>\n",
       "      <td>80.000000</td>\n",
       "      <td>2.000000</td>\n",
       "      <td>3.000000</td>\n",
       "      <td>3.000000</td>\n",
       "      <td>12.000000</td>\n",
       "      <td>6.000000</td>\n",
       "      <td>170.000000</td>\n",
       "    </tr>\n",
       "    <tr>\n",
       "      <th>75%</th>\n",
       "      <td>30.000000</td>\n",
       "      <td>80.000000</td>\n",
       "      <td>83.000000</td>\n",
       "      <td>2.000000</td>\n",
       "      <td>4.000000</td>\n",
       "      <td>4.000000</td>\n",
       "      <td>20.000000</td>\n",
       "      <td>6.166667</td>\n",
       "      <td>181.000000</td>\n",
       "    </tr>\n",
       "    <tr>\n",
       "      <th>max</th>\n",
       "      <td>41.000000</td>\n",
       "      <td>94.000000</td>\n",
       "      <td>95.000000</td>\n",
       "      <td>5.000000</td>\n",
       "      <td>5.000000</td>\n",
       "      <td>5.000000</td>\n",
       "      <td>99.000000</td>\n",
       "      <td>6.583333</td>\n",
       "      <td>227.000000</td>\n",
       "    </tr>\n",
       "  </tbody>\n",
       "</table>\n",
       "</div>"
      ],
      "text/plain": [
       "               Age  Overall_rating    Potential  International Reputation  \\\n",
       "count  2000.000000     2000.000000  2000.000000               2000.000000   \n",
       "mean     27.231500       78.197000    80.303500                  1.774500   \n",
       "std       3.859061        3.285969     4.114104                  0.811775   \n",
       "min      17.000000       75.000000    75.000000                  1.000000   \n",
       "25%      24.000000       76.000000    77.000000                  1.000000   \n",
       "50%      27.000000       77.000000    80.000000                  2.000000   \n",
       "75%      30.000000       80.000000    83.000000                  2.000000   \n",
       "max      41.000000       94.000000    95.000000                  5.000000   \n",
       "\n",
       "         Weak Foot  Skill Moves  Jersey Number       Height       Weight  \n",
       "count  2000.000000  2000.000000    2000.000000  2000.000000  2000.000000  \n",
       "mean      3.204000     2.919500      15.205500     5.781042   169.478000  \n",
       "std       0.728457     0.964098      13.210508     0.443337    16.050306  \n",
       "min       1.000000     1.000000       1.000000     5.083333   123.000000  \n",
       "25%       3.000000     2.000000       7.000000     5.500000   159.000000  \n",
       "50%       3.000000     3.000000      12.000000     6.000000   170.000000  \n",
       "75%       4.000000     4.000000      20.000000     6.166667   181.000000  \n",
       "max       5.000000     5.000000      99.000000     6.583333   227.000000  "
      ]
     },
     "execution_count": 195,
     "metadata": {},
     "output_type": "execute_result"
    }
   ],
   "source": [
    "df.describe()"
   ]
  },
  {
   "cell_type": "code",
   "execution_count": 196,
   "metadata": {},
   "outputs": [
    {
     "name": "stdout",
     "output_type": "stream",
     "text": [
      "<class 'pandas.core.frame.DataFrame'>\n",
      "RangeIndex: 2000 entries, 0 to 1999\n",
      "Data columns (total 15 columns):\n",
      " #   Column                    Non-Null Count  Dtype  \n",
      "---  ------                    --------------  -----  \n",
      " 0   Name                      2000 non-null   object \n",
      " 1   Age                       2000 non-null   int64  \n",
      " 2   Nationality               2000 non-null   object \n",
      " 3   Overall_rating            2000 non-null   int64  \n",
      " 4   Potential                 2000 non-null   int64  \n",
      " 5   Club                      1981 non-null   object \n",
      " 6   Preferred Foot            2000 non-null   object \n",
      " 7   International Reputation  2000 non-null   int64  \n",
      " 8   Weak Foot                 2000 non-null   int64  \n",
      " 9   Skill Moves               2000 non-null   int64  \n",
      " 10  Work Rate                 2000 non-null   object \n",
      " 11  Position                  2000 non-null   object \n",
      " 12  Jersey Number             2000 non-null   int64  \n",
      " 13  Height                    2000 non-null   float64\n",
      " 14  Weight                    2000 non-null   int64  \n",
      "dtypes: float64(1), int64(8), object(6)\n",
      "memory usage: 234.5+ KB\n"
     ]
    }
   ],
   "source": [
    "df.info()"
   ]
  },
  {
   "cell_type": "code",
   "execution_count": 9,
   "metadata": {},
   "outputs": [
    {
     "data": {
      "text/plain": [
       "Index(['Name', 'Age', 'Nationality', 'Overall_rating', 'Potential', 'Club',\n",
       "       'Preferred Foot', 'International Reputation', 'Weak Foot',\n",
       "       'Skill Moves', 'Work Rate', 'Position', 'Jersey Number', 'Height',\n",
       "       'Weight'],\n",
       "      dtype='object')"
      ]
     },
     "execution_count": 9,
     "metadata": {},
     "output_type": "execute_result"
    }
   ],
   "source": [
    "df.columns"
   ]
  },
  {
   "cell_type": "markdown",
   "metadata": {},
   "source": [
    "# a)\tAssuming age as population, perform the central limit theorem with sample size of 200. Find the standard error and the mean of sampling distribution. Compare the results with population mean and standard deviation. Explain in non-technical terms why the estimated standard error of a sample mean tends to decrease with an increase in sample size\n"
   ]
  },
  {
   "cell_type": "code",
   "execution_count": 12,
   "metadata": {},
   "outputs": [],
   "source": [
    "pop=list(df[\"Age\"])\n"
   ]
  },
  {
   "cell_type": "code",
   "execution_count": 13,
   "metadata": {},
   "outputs": [],
   "source": [
    "import random\n",
    "random.seed(200)\n",
    "samp=random.sample(pop,k=200)\n"
   ]
  },
  {
   "cell_type": "code",
   "execution_count": 14,
   "metadata": {},
   "outputs": [],
   "source": [
    "pop_mean=np.mean(pop)\n",
    "pop_sd=np.std(pop)\n",
    "\n",
    "\n",
    "sample_mean=np.mean(samp)\n",
    "sample_std=np.std(samp)"
   ]
  },
  {
   "cell_type": "code",
   "execution_count": 15,
   "metadata": {},
   "outputs": [
    {
     "name": "stdout",
     "output_type": "stream",
     "text": [
      "sample_mean 27.205\n",
      "Sample_Std 3.913179653427632\n"
     ]
    }
   ],
   "source": [
    "print(\"sample_mean\",sample_mean)\n",
    "print(\"Sample_Std\",sample_std)"
   ]
  },
  {
   "cell_type": "code",
   "execution_count": 16,
   "metadata": {},
   "outputs": [
    {
     "data": {
      "text/plain": [
       "0.2767035868939902"
      ]
     },
     "execution_count": 16,
     "metadata": {},
     "output_type": "execute_result"
    }
   ],
   "source": [
    "#std error\n",
    "stderror=sample_std/np.sqrt(200)\n",
    "stderror"
   ]
  },
  {
   "cell_type": "code",
   "execution_count": 83,
   "metadata": {},
   "outputs": [
    {
     "data": {
      "text/plain": [
       "-0.09577035230177476"
      ]
     },
     "execution_count": 83,
     "metadata": {},
     "output_type": "execute_result"
    }
   ],
   "source": [
    "clt=(sample_mean-pop_mean)/stderror\n",
    "#(pop_std/np.sqrt(200))\n",
    "clt"
   ]
  },
  {
   "cell_type": "code",
   "execution_count": 17,
   "metadata": {},
   "outputs": [
    {
     "name": "stdout",
     "output_type": "stream",
     "text": [
      "popmean 27.2315\n",
      "popstd 3.8580963894127795\n"
     ]
    }
   ],
   "source": [
    "pop_mean=np.mean(df[\"Age\"])\n",
    "pop_std=np.std(df[\"Age\"])  \n",
    "print(\"popmean\",pop_mean) #N=2000\n",
    "print(\"popstd\",pop_std)"
   ]
  },
  {
   "cell_type": "code",
   "execution_count": 18,
   "metadata": {},
   "outputs": [
    {
     "name": "stdout",
     "output_type": "stream",
     "text": [
      "samplemean 27.205\n",
      "samplestd 3.913179653427632\n",
      "stderror 0.2767035868939902\n"
     ]
    }
   ],
   "source": [
    "print(\"samplemean\",sample_mean) #n=200\n",
    "print(\"samplestd\",sample_std)\n",
    "print(\"stderror\",stderror)"
   ]
  },
  {
   "cell_type": "markdown",
   "metadata": {},
   "source": [
    "As The sample size increases i.e. the sample size move towards attaining the true population size, because of which sample mean tends to move towards the population mean and hence the standard error decreases with increase in sample size"
   ]
  },
  {
   "cell_type": "markdown",
   "metadata": {},
   "source": [
    "# b)\tIs there any evidence that the players overall rating is greater than 80?\n"
   ]
  },
  {
   "cell_type": "markdown",
   "metadata": {},
   "source": [
    "H0: There is evidence that Ratings are <=80\n",
    "H1: There is evidence that Ratings are >80  #righttailed"
   ]
  },
  {
   "cell_type": "code",
   "execution_count": 94,
   "metadata": {},
   "outputs": [
    {
     "data": {
      "text/plain": [
       "1.6448536269514729"
      ]
     },
     "execution_count": 94,
     "metadata": {},
     "output_type": "execute_result"
    }
   ],
   "source": [
    "zcrit=stats.norm.isf(0.05)\n",
    "zcrit"
   ]
  },
  {
   "cell_type": "code",
   "execution_count": 101,
   "metadata": {},
   "outputs": [
    {
     "name": "stdout",
     "output_type": "stream",
     "text": [
      "80\n",
      "78.197\n"
     ]
    },
    {
     "data": {
      "text/plain": [
       "3.285147028673068"
      ]
     },
     "execution_count": 101,
     "metadata": {},
     "output_type": "execute_result"
    }
   ],
   "source": [
    "pop_mean=80\n",
    "print(pop_mean)\n",
    "xbar=np.mean(df[\"Overall_rating\"])\n",
    "print(xbar)\n",
    "np.std(df[\"Overall_rating\"])"
   ]
  },
  {
   "cell_type": "code",
   "execution_count": 106,
   "metadata": {},
   "outputs": [
    {
     "data": {
      "text/plain": [
       "-24.58311319165924"
      ]
     },
     "execution_count": 106,
     "metadata": {},
     "output_type": "execute_result"
    }
   ],
   "source": [
    "zstat=(78.197-80)/(3.28/np.sqrt(2000))\n",
    "zstat"
   ]
  },
  {
   "cell_type": "code",
   "execution_count": 108,
   "metadata": {},
   "outputs": [
    {
     "name": "stdout",
     "output_type": "stream",
     "text": [
      "fail to reject null\n"
     ]
    }
   ],
   "source": [
    "if zcrit<zstat:\n",
    "    print(\"reject null\")\n",
    "else:\n",
    "    print(\"fail to reject null\")"
   ]
  },
  {
   "cell_type": "markdown",
   "metadata": {},
   "source": [
    "# Hence,we conclude that there is evidence that Ratings are >80"
   ]
  },
  {
   "cell_type": "markdown",
   "metadata": {},
   "source": [
    "# c)\tPerform the statistical test to identify whether preferred foot has any impact on potential. Also, perform the graphical analysis.\n"
   ]
  },
  {
   "cell_type": "markdown",
   "metadata": {},
   "source": [
    "H0=There is an impact of preferred foot on potential\n",
    "H1:There is atleast some impact of prefered foot on potential"
   ]
  },
  {
   "cell_type": "code",
   "execution_count": 70,
   "metadata": {},
   "outputs": [
    {
     "data": {
      "text/plain": [
       "Index(['Name', 'Age', 'Nationality', 'Overall_rating', 'Potential', 'Club',\n",
       "       'Preferred Foot', 'International Reputation', 'Weak Foot',\n",
       "       'Skill Moves', 'Work Rate', 'Position', 'Jersey Number', 'Height',\n",
       "       'Weight'],\n",
       "      dtype='object')"
      ]
     },
     "execution_count": 70,
     "metadata": {},
     "output_type": "execute_result"
    }
   ],
   "source": [
    "df.columns"
   ]
  },
  {
   "cell_type": "code",
   "execution_count": 60,
   "metadata": {},
   "outputs": [
    {
     "data": {
      "text/plain": [
       "3.8461172252974345"
      ]
     },
     "execution_count": 60,
     "metadata": {},
     "output_type": "execute_result"
    }
   ],
   "source": [
    "f_crt=stats.f.isf(0.05,1,1998)\n",
    "f_crt\n"
   ]
  },
  {
   "cell_type": "code",
   "execution_count": 53,
   "metadata": {},
   "outputs": [],
   "source": [
    "l=df[\"Potential\"][df[\"Preferred Foot\"]==\"Left\"]\n",
    "r=df[\"Potential\"][df[\"Preferred Foot\"]==\"Right\"]"
   ]
  },
  {
   "cell_type": "code",
   "execution_count": 61,
   "metadata": {},
   "outputs": [
    {
     "data": {
      "text/plain": [
       "(2.3648403497065615, 0.12425494914458383)"
      ]
     },
     "execution_count": 61,
     "metadata": {},
     "output_type": "execute_result"
    }
   ],
   "source": [
    "f_test,pval=stats.f_oneway(l,r)\n",
    "f_test,pval"
   ]
  },
  {
   "cell_type": "code",
   "execution_count": 45,
   "metadata": {},
   "outputs": [
    {
     "name": "stdout",
     "output_type": "stream",
     "text": [
      "fail to reject null\n"
     ]
    }
   ],
   "source": [
    "alpha=1-0.95\n",
    "if 0.124<alpha:\n",
    "    print(\"reject null\")\n",
    "else:\n",
    "    print(\"fail to reject null\")"
   ]
  },
  {
   "cell_type": "code",
   "execution_count": 65,
   "metadata": {},
   "outputs": [
    {
     "data": {
      "text/html": [
       "<div>\n",
       "<style scoped>\n",
       "    .dataframe tbody tr th:only-of-type {\n",
       "        vertical-align: middle;\n",
       "    }\n",
       "\n",
       "    .dataframe tbody tr th {\n",
       "        vertical-align: top;\n",
       "    }\n",
       "\n",
       "    .dataframe thead th {\n",
       "        text-align: right;\n",
       "    }\n",
       "</style>\n",
       "<table border=\"1\" class=\"dataframe\">\n",
       "  <thead>\n",
       "    <tr style=\"text-align: right;\">\n",
       "      <th></th>\n",
       "      <th>df</th>\n",
       "      <th>sum_sq</th>\n",
       "      <th>mean_sq</th>\n",
       "      <th>F</th>\n",
       "      <th>PR(&gt;F)</th>\n",
       "    </tr>\n",
       "  </thead>\n",
       "  <tbody>\n",
       "    <tr>\n",
       "      <th>Q(\"Preferred Foot\")</th>\n",
       "      <td>1.0</td>\n",
       "      <td>39.999624</td>\n",
       "      <td>39.999624</td>\n",
       "      <td>2.36484</td>\n",
       "      <td>0.124255</td>\n",
       "    </tr>\n",
       "    <tr>\n",
       "      <th>Residual</th>\n",
       "      <td>1998.0</td>\n",
       "      <td>33794.775876</td>\n",
       "      <td>16.914302</td>\n",
       "      <td>NaN</td>\n",
       "      <td>NaN</td>\n",
       "    </tr>\n",
       "  </tbody>\n",
       "</table>\n",
       "</div>"
      ],
      "text/plain": [
       "                         df        sum_sq    mean_sq        F    PR(>F)\n",
       "Q(\"Preferred Foot\")     1.0     39.999624  39.999624  2.36484  0.124255\n",
       "Residual             1998.0  33794.775876  16.914302      NaN       NaN"
      ]
     },
     "execution_count": 65,
     "metadata": {},
     "output_type": "execute_result"
    }
   ],
   "source": [
    "#other way\n",
    "ftest=ols('Potential ~ Q(\"Preferred Foot\")',df).fit()\n",
    "anova=anova_lm(ftest,typ=1)\n",
    "anova\n"
   ]
  },
  {
   "cell_type": "code",
   "execution_count": 63,
   "metadata": {},
   "outputs": [
    {
     "data": {
      "image/png": "[encoded data removed]",
      "text/plain": [
       "<Figure size 1080x576 with 1 Axes>"
      ]
     },
     "metadata": {
      "needs_background": "light"
     },
     "output_type": "display_data"
    }
   ],
   "source": [
    "plt.figure(figsize=(15,8))\n",
    "X = stats.f.rvs(dfn = 4, dfd = 995, size = 1000000, random_state = 15)\n",
    "\n",
    "# pass the data to the parameter, 'a'\n",
    "# 'hist=False' does not return the histogram \n",
    "# 'cumulative=False' in 'kde_kws' does not return the cumulative kernel density estimator\n",
    "ax = sns.distplot(a = X, hist = False, kde_kws = dict(cumulative=False))\n",
    "\n",
    "# set the limit for y-axis\n",
    "plt.ylim(0, 0.8)\n",
    "\n",
    "# set the limit for x-axis\n",
    "plt.xlim(0, 10)\n",
    "\n",
    "# use 'stats.f.isf()' to calculate the critical value for alpha = 0.05\n",
    "# pass the value of 'alpha' to the parameter 'q'\n",
    "# pass the degrees of freedom (= 4) to the parameter 'dfn' \n",
    "# pass the degrees of freedom (= 995) to the parameter 'dfd' \n",
    "f = stats.f.isf(q = 0.05, dfn = 1, dfd = 1998)\n",
    "\n",
    "# plot a vertical line at f-value\n",
    "x, y = [f, f], [0, 0.4]\n",
    "plt.plot(x, y, color = 'black')\n",
    "\n",
    "# plot a vertical line at f test value\n",
    "x, y = [f_test, f_test], [0, 0.04]\n",
    "plt.plot(x, y, color = 'black')\n",
    "\n",
    "# add the color to the right of the f-value\n",
    "# get the data for x and y axes\n",
    "l1 = ax.lines[0]\n",
    "x1 = l1.get_xydata()[:,0]\n",
    "y1 = l1.get_xydata()[:,1]\n",
    "\n",
    "# fill the color for the region where x-values are greater than the critical f-value\n",
    "# pass the condition to shade the required region\n",
    "# pass the required color to the parameter, 'color'\n",
    "ax.fill_between(x1[x1 >= f], y1[x1 >= f], color = 'lightblue')\n",
    "\n",
    "# use 'annonate' function to draw an arrow between points xy and xytext\n",
    "# 's' is a argument to write text\n",
    "# we can change the facecolor and arrowstyle; this is only for representation purpose\n",
    "plt.annotate(s = 'α = 0.05\\n(Rejection Region for H0)', xy = (2.8, 0.02), xytext = (2.7, 0.1), \n",
    "             arrowprops = dict(facecolor = 'black', arrowstyle = 'simple'))\n",
    "\n",
    "plt.annotate(s = 'f_crit = '+ str(round(f,2)), xy = (f, 0.2), xytext = (f+0.2, 0.3), \n",
    "             arrowprops = dict(facecolor = 'black', arrowstyle = 'simple'))\n",
    "\n",
    "# use below code to print the values in the graph\n",
    "# 'x' and 'y' gives position of the text\n",
    "# 's' is the text \n",
    "plt.text(x = 0.4, y = 0.2, s = 'Acceptance Region \\n for H0 (1 - α)')\n",
    "\n",
    "# assign the x-axis labels\n",
    "# pass the position of labels to the parameter, 'ticks'\n",
    "# pass the required labels to the parameter, 'labels'\n",
    "plt.xticks(ticks = [0, 2, 4, 6, 8, round(f_test,2)], \n",
    "           labels = [0, 2, 4, 6, 8, 'f_test = '+str(round(f_test,2))])\n",
    "\n",
    "# set plot and axes labels\n",
    "# set text size using 'fontsize'\n",
    "plt.xlabel('F', fontsize = 15)\n",
    "plt.ylabel('Probability', fontsize = 15)\n",
    "plt.title('Test Region', fontsize = 15)\n",
    "\n",
    "# display the plot\n",
    "plt.show()"
   ]
  },
  {
   "cell_type": "markdown",
   "metadata": {},
   "source": [
    "# Hence,we conclude there is an impact of preferred foot on potential"
   ]
  },
  {
   "cell_type": "code",
   "execution_count": 104,
   "metadata": {},
   "outputs": [
    {
     "data": {
      "image/png": "[encoded data removed]",
      "text/plain": [
       "<Figure size 1080x576 with 1 Axes>"
      ]
     },
     "metadata": {
      "needs_background": "light"
     },
     "output_type": "display_data"
    }
   ],
   "source": [
    "plt.figure(figsize=(15,8))\n",
    "sns.barplot(df[\"Preferred Foot\"],df[\"Potential\"],ci=False)\n",
    "plt.title(\"Graph of Preferred foot over potential\")\n",
    "plt.show()"
   ]
  },
  {
   "cell_type": "markdown",
   "metadata": {},
   "source": [
    "# d)\tPerform the statistical test to identify the relation between the overall rating and potential. [Assume both are continuous data points].\n"
   ]
  },
  {
   "cell_type": "markdown",
   "metadata": {},
   "source": [
    "H0:There is relation between overall rating and potential\n",
    "H1:There is no relation between overall rating and potential"
   ]
  },
  {
   "cell_type": "code",
   "execution_count": 4,
   "metadata": {},
   "outputs": [
    {
     "data": {
      "text/plain": [
       "(141.9704137312041, 3.4406841059319607e-32)"
      ]
     },
     "execution_count": 4,
     "metadata": {},
     "output_type": "execute_result"
    }
   ],
   "source": [
    "stat,p=stats.levene(df[\"Overall_rating\"],df[\"Potential\"])\n",
    "stat,p\n"
   ]
  },
  {
   "cell_type": "code",
   "execution_count": 109,
   "metadata": {},
   "outputs": [
    {
     "data": {
      "text/plain": [
       "(-17.89175319557915, 6.241604310936382e-69)"
      ]
     },
     "execution_count": 109,
     "metadata": {},
     "output_type": "execute_result"
    }
   ],
   "source": [
    "#ttest\n",
    "stat,p=ttest_ind(df[\"Overall_rating\"],df[\"Potential\"])\n",
    "stat,p"
   ]
  },
  {
   "cell_type": "code",
   "execution_count": 112,
   "metadata": {},
   "outputs": [
    {
     "name": "stdout",
     "output_type": "stream",
     "text": [
      "reject null\n"
     ]
    }
   ],
   "source": [
    "alpha=1-0.95\n",
    "if p<alpha:\n",
    "    print(\"reject null\")"
   ]
  },
  {
   "cell_type": "markdown",
   "metadata": {},
   "source": [
    "# Hence we conclude there is no relation between overall rating and potential"
   ]
  },
  {
   "cell_type": "markdown",
   "metadata": {},
   "source": [
    "# e)\tDoes skill move have any effect in overall rating. Perform the graphical analysis and the statistical analysis.\n"
   ]
  },
  {
   "cell_type": "markdown",
   "metadata": {},
   "source": [
    "H0:There is effect of skill moves on overall rating\n",
    "H0:There is no effect of skill moves on overall rating\n",
    "#twotailed"
   ]
  },
  {
   "cell_type": "code",
   "execution_count": 10,
   "metadata": {},
   "outputs": [
    {
     "data": {
      "text/plain": [
       "(-983.0720466249821, 0.0)"
      ]
     },
     "execution_count": 10,
     "metadata": {},
     "output_type": "execute_result"
    }
   ],
   "source": [
    "tstat,p=ttest_ind(df[\"Skill Moves\"],df[\"Overall_rating\"])\n",
    "tstat,p"
   ]
  },
  {
   "cell_type": "code",
   "execution_count": 113,
   "metadata": {},
   "outputs": [
    {
     "name": "stdout",
     "output_type": "stream",
     "text": [
      "reject null\n"
     ]
    }
   ],
   "source": [
    "if p<alpha:\n",
    "    print(\"reject null\")\n",
    "else:\n",
    "    print(\"fail to reject null\")"
   ]
  },
  {
   "cell_type": "markdown",
   "metadata": {},
   "source": [
    "# Hence we conclude there is no effect of skill moves on overall rating"
   ]
  },
  {
   "cell_type": "code",
   "execution_count": 43,
   "metadata": {},
   "outputs": [
    {
     "data": {
      "image/png": "[encoded data removed]",
      "text/plain": [
       "<Figure size 1080x576 with 1 Axes>"
      ]
     },
     "metadata": {
      "needs_background": "light"
     },
     "output_type": "display_data"
    }
   ],
   "source": [
    "plt.figure(figsize=(15,8))\n",
    "sns.lineplot(df[\"Skill Moves\"],df[\"Overall_rating\"])\n",
    "plt.title(\"Graph of Skill moves and Overall_rating\")\n",
    "plt.show()"
   ]
  },
  {
   "cell_type": "code",
   "execution_count": 114,
   "metadata": {},
   "outputs": [
    {
     "data": {
      "image/png": "[encoded data removed]",
      "text/plain": [
       "<Figure size 1080x576 with 1 Axes>"
      ]
     },
     "metadata": {
      "needs_background": "light"
     },
     "output_type": "display_data"
    }
   ],
   "source": [
    "plt.figure(figsize=(15,8))\n",
    "sns.scatterplot(df[\"Skill Moves\"],df[\"Overall_rating\"])\n",
    "plt.title(\"Graph of Skill moves and Overall_rating\")\n",
    "plt.show()"
   ]
  },
  {
   "cell_type": "markdown",
   "metadata": {},
   "source": [
    "# 2. Perform the following statistical analysis on the mobile network dataset given. The given data set contains information about the internet, calls, messages of various network. Data Cleaning and basic EDA process needs to be performed. \n",
    "\n"
   ]
  },
  {
   "cell_type": "markdown",
   "metadata": {},
   "source": [
    "Note: \n",
    "1) Perform all the Statistical analysis with 5%(Significance level). \n",
    "2) Perform the test of normality and test of variance in the appropriate places.\n"
   ]
  },
  {
   "cell_type": "code",
   "execution_count": 3,
   "metadata": {},
   "outputs": [
    {
     "data": {
      "text/html": [
       "<div>\n",
       "<style scoped>\n",
       "    .dataframe tbody tr th:only-of-type {\n",
       "        vertical-align: middle;\n",
       "    }\n",
       "\n",
       "    .dataframe tbody tr th {\n",
       "        vertical-align: top;\n",
       "    }\n",
       "\n",
       "    .dataframe thead th {\n",
       "        text-align: right;\n",
       "    }\n",
       "</style>\n",
       "<table border=\"1\" class=\"dataframe\">\n",
       "  <thead>\n",
       "    <tr style=\"text-align: right;\">\n",
       "      <th></th>\n",
       "      <th>date</th>\n",
       "      <th>duration</th>\n",
       "      <th>item</th>\n",
       "      <th>month</th>\n",
       "      <th>network</th>\n",
       "      <th>network_type</th>\n",
       "    </tr>\n",
       "  </thead>\n",
       "  <tbody>\n",
       "    <tr>\n",
       "      <th>0</th>\n",
       "      <td>15-10-14 6:58</td>\n",
       "      <td>221.321120</td>\n",
       "      <td>data</td>\n",
       "      <td>2014-11</td>\n",
       "      <td>data</td>\n",
       "      <td>data</td>\n",
       "    </tr>\n",
       "    <tr>\n",
       "      <th>1</th>\n",
       "      <td>15-10-14 6:58</td>\n",
       "      <td>81.610599</td>\n",
       "      <td>call</td>\n",
       "      <td>2014-11</td>\n",
       "      <td>Vodafone</td>\n",
       "      <td>mobile</td>\n",
       "    </tr>\n",
       "    <tr>\n",
       "      <th>2</th>\n",
       "      <td>15-10-14 14:46</td>\n",
       "      <td>143.109111</td>\n",
       "      <td>call</td>\n",
       "      <td>2014-11</td>\n",
       "      <td>Meteor</td>\n",
       "      <td>mobile</td>\n",
       "    </tr>\n",
       "    <tr>\n",
       "      <th>3</th>\n",
       "      <td>15-10-14 14:48</td>\n",
       "      <td>111.888670</td>\n",
       "      <td>call</td>\n",
       "      <td>2014-11</td>\n",
       "      <td>Tesco</td>\n",
       "      <td>mobile</td>\n",
       "    </tr>\n",
       "    <tr>\n",
       "      <th>4</th>\n",
       "      <td>15-10-14 17:27</td>\n",
       "      <td>246.695171</td>\n",
       "      <td>call</td>\n",
       "      <td>2014-11</td>\n",
       "      <td>Tesco</td>\n",
       "      <td>mobile</td>\n",
       "    </tr>\n",
       "  </tbody>\n",
       "</table>\n",
       "</div>"
      ],
      "text/plain": [
       "             date    duration  item    month   network network_type\n",
       "0   15-10-14 6:58  221.321120  data  2014-11      data         data\n",
       "1   15-10-14 6:58   81.610599  call  2014-11  Vodafone       mobile\n",
       "2  15-10-14 14:46  143.109111  call  2014-11    Meteor       mobile\n",
       "3  15-10-14 14:48  111.888670  call  2014-11     Tesco       mobile\n",
       "4  15-10-14 17:27  246.695171  call  2014-11     Tesco       mobile"
      ]
     },
     "execution_count": 3,
     "metadata": {},
     "output_type": "execute_result"
    }
   ],
   "source": [
    "#reading dataset\n",
    "df1=pd.read_csv(\"phone.csv\")\n",
    "df1.head(5)"
   ]
  },
  {
   "cell_type": "code",
   "execution_count": 204,
   "metadata": {},
   "outputs": [
    {
     "data": {
      "text/html": [
       "<div>\n",
       "<style scoped>\n",
       "    .dataframe tbody tr th:only-of-type {\n",
       "        vertical-align: middle;\n",
       "    }\n",
       "\n",
       "    .dataframe tbody tr th {\n",
       "        vertical-align: top;\n",
       "    }\n",
       "\n",
       "    .dataframe thead th {\n",
       "        text-align: right;\n",
       "    }\n",
       "</style>\n",
       "<table border=\"1\" class=\"dataframe\">\n",
       "  <thead>\n",
       "    <tr style=\"text-align: right;\">\n",
       "      <th></th>\n",
       "      <th>duration</th>\n",
       "    </tr>\n",
       "  </thead>\n",
       "  <tbody>\n",
       "    <tr>\n",
       "      <th>count</th>\n",
       "      <td>820.000000</td>\n",
       "    </tr>\n",
       "    <tr>\n",
       "      <th>mean</th>\n",
       "      <td>144.304936</td>\n",
       "    </tr>\n",
       "    <tr>\n",
       "      <th>std</th>\n",
       "      <td>45.687777</td>\n",
       "    </tr>\n",
       "    <tr>\n",
       "      <th>min</th>\n",
       "      <td>0.993514</td>\n",
       "    </tr>\n",
       "    <tr>\n",
       "      <th>25%</th>\n",
       "      <td>112.916486</td>\n",
       "    </tr>\n",
       "    <tr>\n",
       "      <th>50%</th>\n",
       "      <td>144.179434</td>\n",
       "    </tr>\n",
       "    <tr>\n",
       "      <th>75%</th>\n",
       "      <td>175.932308</td>\n",
       "    </tr>\n",
       "    <tr>\n",
       "      <th>max</th>\n",
       "      <td>268.458090</td>\n",
       "    </tr>\n",
       "  </tbody>\n",
       "</table>\n",
       "</div>"
      ],
      "text/plain": [
       "         duration\n",
       "count  820.000000\n",
       "mean   144.304936\n",
       "std     45.687777\n",
       "min      0.993514\n",
       "25%    112.916486\n",
       "50%    144.179434\n",
       "75%    175.932308\n",
       "max    268.458090"
      ]
     },
     "execution_count": 204,
     "metadata": {},
     "output_type": "execute_result"
    }
   ],
   "source": [
    "df1.describe()"
   ]
  },
  {
   "cell_type": "code",
   "execution_count": 205,
   "metadata": {},
   "outputs": [
    {
     "name": "stdout",
     "output_type": "stream",
     "text": [
      "<class 'pandas.core.frame.DataFrame'>\n",
      "RangeIndex: 820 entries, 0 to 819\n",
      "Data columns (total 6 columns):\n",
      " #   Column        Non-Null Count  Dtype  \n",
      "---  ------        --------------  -----  \n",
      " 0   date          820 non-null    object \n",
      " 1   duration      820 non-null    float64\n",
      " 2   item          820 non-null    object \n",
      " 3   month         820 non-null    object \n",
      " 4   network       820 non-null    object \n",
      " 5   network_type  820 non-null    object \n",
      "dtypes: float64(1), object(5)\n",
      "memory usage: 38.6+ KB\n"
     ]
    }
   ],
   "source": [
    "df1.info()"
   ]
  },
  {
   "cell_type": "code",
   "execution_count": 194,
   "metadata": {},
   "outputs": [
    {
     "data": {
      "text/plain": [
       "date            0\n",
       "duration        0\n",
       "item            0\n",
       "month           0\n",
       "network         0\n",
       "network_type    0\n",
       "dtype: int64"
      ]
     },
     "execution_count": 194,
     "metadata": {},
     "output_type": "execute_result"
    }
   ],
   "source": [
    "df1.isna().sum()"
   ]
  },
  {
   "cell_type": "markdown",
   "metadata": {},
   "source": [
    "No null values"
   ]
  },
  {
   "cell_type": "markdown",
   "metadata": {},
   "source": [
    "# a) With 95% & 99% Confidence Interval find the range estimate of average duration calls made by all the network. Which of the Intervals are wider? Interpret the results.\n"
   ]
  },
  {
   "cell_type": "code",
   "execution_count": 209,
   "metadata": {},
   "outputs": [],
   "source": [
    "sm=np.mean(df1[\"duration\"])\n",
    "sm\n",
    "sd=np.std(df1[\"duration\"])\n",
    "sd\n",
    "n=len(df1)"
   ]
  },
  {
   "cell_type": "code",
   "execution_count": 213,
   "metadata": {},
   "outputs": [
    {
     "name": "stdout",
     "output_type": "stream",
     "text": [
      "Confidence Interval at 95% (141.1797470762666, 147.4301240434043)\n"
     ]
    }
   ],
   "source": [
    "CI1=stats.norm.interval(0.95,loc=sm,scale=sd/np.sqrt(n))\n",
    "print(\"Confidence Interval at 95%\",CI1)"
   ]
  },
  {
   "cell_type": "code",
   "execution_count": 214,
   "metadata": {},
   "outputs": [
    {
     "name": "stdout",
     "output_type": "stream",
     "text": [
      "Confidence Interval at 99% (140.1977416835259, 148.41212943614502)\n"
     ]
    }
   ],
   "source": [
    "CI2=stats.norm.interval(0.99,loc=sm,scale=sd/np.sqrt(n))\n",
    "print(\"Confidence Interval at 99%\",CI2)"
   ]
  },
  {
   "cell_type": "code",
   "execution_count": 217,
   "metadata": {},
   "outputs": [],
   "source": [
    "CI2 with 99% confidence interval is wider by emperical rule"
   ]
  },
  {
   "cell_type": "markdown",
   "metadata": {},
   "source": [
    "# b) Perform statistical analysis to check whether the networks are equally distributed in the dataset.\n"
   ]
  },
  {
   "cell_type": "markdown",
   "metadata": {},
   "source": [
    "H0:Networks are equally distributed\n",
    "H1:Networks are not equally distributed"
   ]
  },
  {
   "cell_type": "code",
   "execution_count": 4,
   "metadata": {},
   "outputs": [
    {
     "data": {
      "text/html": [
       "<div>\n",
       "<style scoped>\n",
       "    .dataframe tbody tr th:only-of-type {\n",
       "        vertical-align: middle;\n",
       "    }\n",
       "\n",
       "    .dataframe tbody tr th {\n",
       "        vertical-align: top;\n",
       "    }\n",
       "\n",
       "    .dataframe thead th {\n",
       "        text-align: right;\n",
       "    }\n",
       "</style>\n",
       "<table border=\"1\" class=\"dataframe\">\n",
       "  <thead>\n",
       "    <tr style=\"text-align: right;\">\n",
       "      <th></th>\n",
       "      <th>date</th>\n",
       "      <th>duration</th>\n",
       "      <th>item</th>\n",
       "      <th>month</th>\n",
       "      <th>network</th>\n",
       "      <th>network_type</th>\n",
       "    </tr>\n",
       "  </thead>\n",
       "  <tbody>\n",
       "    <tr>\n",
       "      <th>0</th>\n",
       "      <td>15-10-14 6:58</td>\n",
       "      <td>221.32112</td>\n",
       "      <td>data</td>\n",
       "      <td>2014-11</td>\n",
       "      <td>data</td>\n",
       "      <td>data</td>\n",
       "    </tr>\n",
       "  </tbody>\n",
       "</table>\n",
       "</div>"
      ],
      "text/plain": [
       "            date   duration  item    month network network_type\n",
       "0  15-10-14 6:58  221.32112  data  2014-11    data         data"
      ]
     },
     "execution_count": 4,
     "metadata": {},
     "output_type": "execute_result"
    }
   ],
   "source": [
    "df1.head(1)"
   ]
  },
  {
   "cell_type": "code",
   "execution_count": 14,
   "metadata": {},
   "outputs": [
    {
     "data": {
      "text/html": [
       "<div>\n",
       "<style scoped>\n",
       "    .dataframe tbody tr th:only-of-type {\n",
       "        vertical-align: middle;\n",
       "    }\n",
       "\n",
       "    .dataframe tbody tr th {\n",
       "        vertical-align: top;\n",
       "    }\n",
       "\n",
       "    .dataframe thead th {\n",
       "        text-align: right;\n",
       "    }\n",
       "</style>\n",
       "<table border=\"1\" class=\"dataframe\">\n",
       "  <thead>\n",
       "    <tr style=\"text-align: right;\">\n",
       "      <th>network</th>\n",
       "      <th>Meteor</th>\n",
       "      <th>Tesco</th>\n",
       "      <th>Three</th>\n",
       "      <th>Vodafone</th>\n",
       "      <th>data</th>\n",
       "      <th>landline</th>\n",
       "      <th>voicemail</th>\n",
       "    </tr>\n",
       "    <tr>\n",
       "      <th>network</th>\n",
       "      <th></th>\n",
       "      <th></th>\n",
       "      <th></th>\n",
       "      <th></th>\n",
       "      <th></th>\n",
       "      <th></th>\n",
       "      <th></th>\n",
       "    </tr>\n",
       "  </thead>\n",
       "  <tbody>\n",
       "    <tr>\n",
       "      <th>Meteor</th>\n",
       "      <td>87</td>\n",
       "      <td>0</td>\n",
       "      <td>0</td>\n",
       "      <td>0</td>\n",
       "      <td>0</td>\n",
       "      <td>0</td>\n",
       "      <td>0</td>\n",
       "    </tr>\n",
       "    <tr>\n",
       "      <th>Tesco</th>\n",
       "      <td>0</td>\n",
       "      <td>84</td>\n",
       "      <td>0</td>\n",
       "      <td>0</td>\n",
       "      <td>0</td>\n",
       "      <td>0</td>\n",
       "      <td>0</td>\n",
       "    </tr>\n",
       "    <tr>\n",
       "      <th>Three</th>\n",
       "      <td>0</td>\n",
       "      <td>0</td>\n",
       "      <td>215</td>\n",
       "      <td>0</td>\n",
       "      <td>0</td>\n",
       "      <td>0</td>\n",
       "      <td>0</td>\n",
       "    </tr>\n",
       "    <tr>\n",
       "      <th>Vodafone</th>\n",
       "      <td>0</td>\n",
       "      <td>0</td>\n",
       "      <td>0</td>\n",
       "      <td>215</td>\n",
       "      <td>0</td>\n",
       "      <td>0</td>\n",
       "      <td>0</td>\n",
       "    </tr>\n",
       "    <tr>\n",
       "      <th>data</th>\n",
       "      <td>0</td>\n",
       "      <td>0</td>\n",
       "      <td>0</td>\n",
       "      <td>0</td>\n",
       "      <td>150</td>\n",
       "      <td>0</td>\n",
       "      <td>0</td>\n",
       "    </tr>\n",
       "    <tr>\n",
       "      <th>landline</th>\n",
       "      <td>0</td>\n",
       "      <td>0</td>\n",
       "      <td>0</td>\n",
       "      <td>0</td>\n",
       "      <td>0</td>\n",
       "      <td>42</td>\n",
       "      <td>0</td>\n",
       "    </tr>\n",
       "    <tr>\n",
       "      <th>voicemail</th>\n",
       "      <td>0</td>\n",
       "      <td>0</td>\n",
       "      <td>0</td>\n",
       "      <td>0</td>\n",
       "      <td>0</td>\n",
       "      <td>0</td>\n",
       "      <td>27</td>\n",
       "    </tr>\n",
       "  </tbody>\n",
       "</table>\n",
       "</div>"
      ],
      "text/plain": [
       "network    Meteor  Tesco  Three  Vodafone  data  landline  voicemail\n",
       "network                                                             \n",
       "Meteor         87      0      0         0     0         0          0\n",
       "Tesco           0     84      0         0     0         0          0\n",
       "Three           0      0    215         0     0         0          0\n",
       "Vodafone        0      0      0       215     0         0          0\n",
       "data            0      0      0         0   150         0          0\n",
       "landline        0      0      0         0     0        42          0\n",
       "voicemail       0      0      0         0     0         0         27"
      ]
     },
     "execution_count": 14,
     "metadata": {},
     "output_type": "execute_result"
    }
   ],
   "source": [
    "tab=pd.crosstab(df1[\"network\"],df1[\"network\"])\n",
    "tab"
   ]
  },
  {
   "cell_type": "code",
   "execution_count": 15,
   "metadata": {},
   "outputs": [
    {
     "data": {
      "text/plain": [
       "7.378163296635093"
      ]
     },
     "execution_count": 15,
     "metadata": {},
     "output_type": "execute_result"
    }
   ],
   "source": [
    "chistat=stats.chi.isf(alpha/2,df=36)\n",
    "chistat"
   ]
  },
  {
   "cell_type": "code",
   "execution_count": 16,
   "metadata": {},
   "outputs": [
    {
     "data": {
      "text/plain": [
       "array([[ 87,   0,   0,   0,   0,   0,   0],\n",
       "       [  0,  84,   0,   0,   0,   0,   0],\n",
       "       [  0,   0, 215,   0,   0,   0,   0],\n",
       "       [  0,   0,   0, 215,   0,   0,   0],\n",
       "       [  0,   0,   0,   0, 150,   0,   0],\n",
       "       [  0,   0,   0,   0,   0,  42,   0],\n",
       "       [  0,   0,   0,   0,   0,   0,  27]], dtype=int64)"
      ]
     },
     "execution_count": 16,
     "metadata": {},
     "output_type": "execute_result"
    }
   ],
   "source": [
    "obs=tab.values\n",
    "obs"
   ]
  },
  {
   "cell_type": "code",
   "execution_count": 17,
   "metadata": {},
   "outputs": [
    {
     "name": "stdout",
     "output_type": "stream",
     "text": [
      "chival 4920.0\n",
      "pval 0.0\n",
      "dof 36\n"
     ]
    }
   ],
   "source": [
    "chi,p,dof,exp=stats.chi2_contingency(obs,correction=False)\n",
    "chi,p,dof\n",
    "print(\"chival\",chi)\n",
    "print(\"pval\",p)\n",
    "print(\"dof\",dof)\n"
   ]
  },
  {
   "cell_type": "code",
   "execution_count": 18,
   "metadata": {},
   "outputs": [
    {
     "name": "stdout",
     "output_type": "stream",
     "text": [
      "[[ 9.2304878   8.91219512 22.81097561 22.81097561 15.91463415  4.45609756\n",
      "   2.86463415]\n",
      " [ 8.91219512  8.60487805 22.02439024 22.02439024 15.36585366  4.30243902\n",
      "   2.76585366]\n",
      " [22.81097561 22.02439024 56.37195122 56.37195122 39.32926829 11.01219512\n",
      "   7.07926829]\n",
      " [22.81097561 22.02439024 56.37195122 56.37195122 39.32926829 11.01219512\n",
      "   7.07926829]\n",
      " [15.91463415 15.36585366 39.32926829 39.32926829 27.43902439  7.68292683\n",
      "   4.93902439]\n",
      " [ 4.45609756  4.30243902 11.01219512 11.01219512  7.68292683  2.15121951\n",
      "   1.38292683]\n",
      " [ 2.86463415  2.76585366  7.07926829  7.07926829  4.93902439  1.38292683\n",
      "   0.88902439]]\n"
     ]
    }
   ],
   "source": [
    "print(exp)"
   ]
  },
  {
   "cell_type": "code",
   "execution_count": 258,
   "metadata": {},
   "outputs": [
    {
     "name": "stdout",
     "output_type": "stream",
     "text": [
      "reject null\n"
     ]
    }
   ],
   "source": [
    "if p<alpha:\n",
    "    print(\"reject null\")\n",
    "else:\n",
    "    print(\"fail to reject null\")"
   ]
  },
  {
   "cell_type": "code",
   "execution_count": 128,
   "metadata": {},
   "outputs": [
    {
     "name": "stdout",
     "output_type": "stream",
     "text": [
      "reject null\n"
     ]
    }
   ],
   "source": [
    "if chistat<chi:\n",
    "    print(\"reject null\")\n",
    "else:\n",
    "    print(\"fail to reject null\")"
   ]
  },
  {
   "cell_type": "code",
   "execution_count": 8,
   "metadata": {},
   "outputs": [
    {
     "data": {
      "image/png": "[encoded data removed]",
      "text/plain": [
       "<Figure size 1080x576 with 1 Axes>"
      ]
     },
     "metadata": {
      "needs_background": "light"
     },
     "output_type": "display_data"
    }
   ],
   "source": [
    "plt.figure(figsize=(15,8))\n",
    "sns.countplot(df1[\"network\"])\n",
    "plt.show()"
   ]
  },
  {
   "cell_type": "markdown",
   "metadata": {},
   "source": [
    "# Hence we conclude networks are not equally distributed"
   ]
  },
  {
   "cell_type": "markdown",
   "metadata": {},
   "source": [
    "# c) Plot the distribution of duration with respect to each network in the same graph and Interpret the results from the graph.\n"
   ]
  },
  {
   "cell_type": "code",
   "execution_count": 260,
   "metadata": {},
   "outputs": [
    {
     "data": {
      "text/html": [
       "<div>\n",
       "<style scoped>\n",
       "    .dataframe tbody tr th:only-of-type {\n",
       "        vertical-align: middle;\n",
       "    }\n",
       "\n",
       "    .dataframe tbody tr th {\n",
       "        vertical-align: top;\n",
       "    }\n",
       "\n",
       "    .dataframe thead th {\n",
       "        text-align: right;\n",
       "    }\n",
       "</style>\n",
       "<table border=\"1\" class=\"dataframe\">\n",
       "  <thead>\n",
       "    <tr style=\"text-align: right;\">\n",
       "      <th></th>\n",
       "      <th>date</th>\n",
       "      <th>duration</th>\n",
       "      <th>item</th>\n",
       "      <th>month</th>\n",
       "      <th>network</th>\n",
       "      <th>network_type</th>\n",
       "    </tr>\n",
       "  </thead>\n",
       "  <tbody>\n",
       "    <tr>\n",
       "      <th>0</th>\n",
       "      <td>15-10-14 6:58</td>\n",
       "      <td>221.321120</td>\n",
       "      <td>data</td>\n",
       "      <td>2014-11</td>\n",
       "      <td>data</td>\n",
       "      <td>data</td>\n",
       "    </tr>\n",
       "    <tr>\n",
       "      <th>1</th>\n",
       "      <td>15-10-14 6:58</td>\n",
       "      <td>81.610599</td>\n",
       "      <td>call</td>\n",
       "      <td>2014-11</td>\n",
       "      <td>Vodafone</td>\n",
       "      <td>mobile</td>\n",
       "    </tr>\n",
       "    <tr>\n",
       "      <th>2</th>\n",
       "      <td>15-10-14 14:46</td>\n",
       "      <td>143.109111</td>\n",
       "      <td>call</td>\n",
       "      <td>2014-11</td>\n",
       "      <td>Meteor</td>\n",
       "      <td>mobile</td>\n",
       "    </tr>\n",
       "    <tr>\n",
       "      <th>3</th>\n",
       "      <td>15-10-14 14:48</td>\n",
       "      <td>111.888670</td>\n",
       "      <td>call</td>\n",
       "      <td>2014-11</td>\n",
       "      <td>Tesco</td>\n",
       "      <td>mobile</td>\n",
       "    </tr>\n",
       "    <tr>\n",
       "      <th>4</th>\n",
       "      <td>15-10-14 17:27</td>\n",
       "      <td>246.695171</td>\n",
       "      <td>call</td>\n",
       "      <td>2014-11</td>\n",
       "      <td>Tesco</td>\n",
       "      <td>mobile</td>\n",
       "    </tr>\n",
       "  </tbody>\n",
       "</table>\n",
       "</div>"
      ],
      "text/plain": [
       "             date    duration  item    month   network network_type\n",
       "0   15-10-14 6:58  221.321120  data  2014-11      data         data\n",
       "1   15-10-14 6:58   81.610599  call  2014-11  Vodafone       mobile\n",
       "2  15-10-14 14:46  143.109111  call  2014-11    Meteor       mobile\n",
       "3  15-10-14 14:48  111.888670  call  2014-11     Tesco       mobile\n",
       "4  15-10-14 17:27  246.695171  call  2014-11     Tesco       mobile"
      ]
     },
     "execution_count": 260,
     "metadata": {},
     "output_type": "execute_result"
    }
   ],
   "source": [
    "df1.head()"
   ]
  },
  {
   "cell_type": "code",
   "execution_count": 264,
   "metadata": {},
   "outputs": [
    {
     "data": {
      "image/png": "[encoded data removed]",
      "text/plain": [
       "<Figure size 1080x576 with 1 Axes>"
      ]
     },
     "metadata": {
      "needs_background": "light"
     },
     "output_type": "display_data"
    }
   ],
   "source": [
    "plt.figure(figsize=(15,8))\n",
    "sns.barplot(df1[\"network\"],df1[\"duration\"],ci=False)\n",
    "plt.title(\"Distribution of duration with respect to each network \")\n",
    "plt.show()"
   ]
  },
  {
   "cell_type": "markdown",
   "metadata": {},
   "source": [
    "We interpret that Voicemail has highest distribution where as meteor has lowest distribution"
   ]
  },
  {
   "cell_type": "markdown",
   "metadata": {},
   "source": [
    "# d)\tPerform statistical tests to identify the relation between item and duration. Detailed explanation of relation between the classes is required.\n"
   ]
  },
  {
   "cell_type": "markdown",
   "metadata": {},
   "source": [
    "H0:There is relation between item and duration\n",
    "H1:There is atleast one difference relation between item and duration"
   ]
  },
  {
   "cell_type": "code",
   "execution_count": 283,
   "metadata": {},
   "outputs": [
    {
     "data": {
      "text/html": [
       "<div>\n",
       "<style scoped>\n",
       "    .dataframe tbody tr th:only-of-type {\n",
       "        vertical-align: middle;\n",
       "    }\n",
       "\n",
       "    .dataframe tbody tr th {\n",
       "        vertical-align: top;\n",
       "    }\n",
       "\n",
       "    .dataframe thead th {\n",
       "        text-align: right;\n",
       "    }\n",
       "</style>\n",
       "<table border=\"1\" class=\"dataframe\">\n",
       "  <thead>\n",
       "    <tr style=\"text-align: right;\">\n",
       "      <th></th>\n",
       "      <th>item</th>\n",
       "      <th>duration</th>\n",
       "    </tr>\n",
       "  </thead>\n",
       "  <tbody>\n",
       "    <tr>\n",
       "      <th>0</th>\n",
       "      <td>data</td>\n",
       "      <td>221.321120</td>\n",
       "    </tr>\n",
       "    <tr>\n",
       "      <th>1</th>\n",
       "      <td>call</td>\n",
       "      <td>81.610599</td>\n",
       "    </tr>\n",
       "    <tr>\n",
       "      <th>2</th>\n",
       "      <td>call</td>\n",
       "      <td>143.109111</td>\n",
       "    </tr>\n",
       "    <tr>\n",
       "      <th>3</th>\n",
       "      <td>call</td>\n",
       "      <td>111.888670</td>\n",
       "    </tr>\n",
       "    <tr>\n",
       "      <th>4</th>\n",
       "      <td>call</td>\n",
       "      <td>246.695171</td>\n",
       "    </tr>\n",
       "    <tr>\n",
       "      <th>...</th>\n",
       "      <td>...</td>\n",
       "      <td>...</td>\n",
       "    </tr>\n",
       "    <tr>\n",
       "      <th>815</th>\n",
       "      <td>data</td>\n",
       "      <td>185.328156</td>\n",
       "    </tr>\n",
       "    <tr>\n",
       "      <th>816</th>\n",
       "      <td>data</td>\n",
       "      <td>89.819383</td>\n",
       "    </tr>\n",
       "    <tr>\n",
       "      <th>817</th>\n",
       "      <td>data</td>\n",
       "      <td>117.604998</td>\n",
       "    </tr>\n",
       "    <tr>\n",
       "      <th>818</th>\n",
       "      <td>sms</td>\n",
       "      <td>77.834006</td>\n",
       "    </tr>\n",
       "    <tr>\n",
       "      <th>819</th>\n",
       "      <td>data</td>\n",
       "      <td>146.000584</td>\n",
       "    </tr>\n",
       "  </tbody>\n",
       "</table>\n",
       "<p>820 rows × 2 columns</p>\n",
       "</div>"
      ],
      "text/plain": [
       "     item    duration\n",
       "0    data  221.321120\n",
       "1    call   81.610599\n",
       "2    call  143.109111\n",
       "3    call  111.888670\n",
       "4    call  246.695171\n",
       "..    ...         ...\n",
       "815  data  185.328156\n",
       "816  data   89.819383\n",
       "817  data  117.604998\n",
       "818   sms   77.834006\n",
       "819  data  146.000584\n",
       "\n",
       "[820 rows x 2 columns]"
      ]
     },
     "execution_count": 283,
     "metadata": {},
     "output_type": "execute_result"
    }
   ],
   "source": [
    "df1[[\"item\",\"duration\"]]"
   ]
  },
  {
   "cell_type": "code",
   "execution_count": 66,
   "metadata": {},
   "outputs": [
    {
     "data": {
      "text/plain": [
       "3.0067437669029107"
      ]
     },
     "execution_count": 66,
     "metadata": {},
     "output_type": "execute_result"
    }
   ],
   "source": [
    "fcrit=stats.f.isf(0.05,2,817)\n",
    "fcrit"
   ]
  },
  {
   "cell_type": "code",
   "execution_count": 20,
   "metadata": {},
   "outputs": [
    {
     "data": {
      "text/html": [
       "<div>\n",
       "<style scoped>\n",
       "    .dataframe tbody tr th:only-of-type {\n",
       "        vertical-align: middle;\n",
       "    }\n",
       "\n",
       "    .dataframe tbody tr th {\n",
       "        vertical-align: top;\n",
       "    }\n",
       "\n",
       "    .dataframe thead th {\n",
       "        text-align: right;\n",
       "    }\n",
       "</style>\n",
       "<table border=\"1\" class=\"dataframe\">\n",
       "  <thead>\n",
       "    <tr style=\"text-align: right;\">\n",
       "      <th></th>\n",
       "      <th>df</th>\n",
       "      <th>sum_sq</th>\n",
       "      <th>mean_sq</th>\n",
       "      <th>F</th>\n",
       "      <th>PR(&gt;F)</th>\n",
       "    </tr>\n",
       "  </thead>\n",
       "  <tbody>\n",
       "    <tr>\n",
       "      <th>Q(\"item\")</th>\n",
       "      <td>2.0</td>\n",
       "      <td>8.044792e+03</td>\n",
       "      <td>4022.395964</td>\n",
       "      <td>1.931396</td>\n",
       "      <td>0.145607</td>\n",
       "    </tr>\n",
       "    <tr>\n",
       "      <th>Residual</th>\n",
       "      <td>817.0</td>\n",
       "      <td>1.701514e+06</td>\n",
       "      <td>2082.636053</td>\n",
       "      <td>NaN</td>\n",
       "      <td>NaN</td>\n",
       "    </tr>\n",
       "  </tbody>\n",
       "</table>\n",
       "</div>"
      ],
      "text/plain": [
       "              df        sum_sq      mean_sq         F    PR(>F)\n",
       "Q(\"item\")    2.0  8.044792e+03  4022.395964  1.931396  0.145607\n",
       "Residual   817.0  1.701514e+06  2082.636053       NaN       NaN"
      ]
     },
     "execution_count": 20,
     "metadata": {},
     "output_type": "execute_result"
    }
   ],
   "source": [
    "fstat=stats.f.isf(0.05,2,817)\n",
    "fstat\n",
    "test=ols('duration ~ Q(\"item\")',df1).fit()\n",
    "anova=anova_lm(test,typ=1)\n",
    "anova"
   ]
  },
  {
   "cell_type": "code",
   "execution_count": 56,
   "metadata": {},
   "outputs": [
    {
     "name": "stdout",
     "output_type": "stream",
     "text": [
      "fail to reject null\n"
     ]
    }
   ],
   "source": [
    "if fstat<1.93:\n",
    "    print(\"reject null\")\n",
    "else:\n",
    "    print(\"fail to reject null\")"
   ]
  },
  {
   "cell_type": "code",
   "execution_count": 57,
   "metadata": {},
   "outputs": [
    {
     "name": "stdout",
     "output_type": "stream",
     "text": [
      "fail to reject null\n"
     ]
    }
   ],
   "source": [
    "if 0.14<alpha:\n",
    "    print(\"reject null\")\n",
    "else:\n",
    "    print(\"fail to reject null\")"
   ]
  },
  {
   "cell_type": "markdown",
   "metadata": {},
   "source": [
    "We assume the population to be normal and have same variance also they are random and independent So we interpret the following:\n",
    "The degree of freedom obtained between is 2 and within is 817 \n",
    "sumof squares obtained between is 8.044792e+03 and within is 1.701514e+06\n",
    "mean squares of sum obtained is 4022.395964 and within is 2082.636053\n",
    "F value comes as 1.93 which is < than fcritical and p value 0.145 which is  > than 0.05 so here we say,\n",
    "we fail to reject null and hence there exists a relation between items and duration."
   ]
  },
  {
   "cell_type": "markdown",
   "metadata": {},
   "source": [
    "# Hence,we conclude there is a relation between item and duration"
   ]
  },
  {
   "cell_type": "markdown",
   "metadata": {},
   "source": [
    "# e)\tPerform statistical tests to identify the relation between network and network_type. \n"
   ]
  },
  {
   "cell_type": "markdown",
   "metadata": {},
   "source": [
    "H0:There is relation between network and network_type\n",
    "H1:There is no relation between network and network_type"
   ]
  },
  {
   "cell_type": "code",
   "execution_count": 269,
   "metadata": {},
   "outputs": [
    {
     "data": {
      "text/html": [
       "<div>\n",
       "<style scoped>\n",
       "    .dataframe tbody tr th:only-of-type {\n",
       "        vertical-align: middle;\n",
       "    }\n",
       "\n",
       "    .dataframe tbody tr th {\n",
       "        vertical-align: top;\n",
       "    }\n",
       "\n",
       "    .dataframe thead th {\n",
       "        text-align: right;\n",
       "    }\n",
       "</style>\n",
       "<table border=\"1\" class=\"dataframe\">\n",
       "  <thead>\n",
       "    <tr style=\"text-align: right;\">\n",
       "      <th></th>\n",
       "      <th>date</th>\n",
       "      <th>duration</th>\n",
       "      <th>item</th>\n",
       "      <th>month</th>\n",
       "      <th>network</th>\n",
       "      <th>network_type</th>\n",
       "    </tr>\n",
       "  </thead>\n",
       "  <tbody>\n",
       "    <tr>\n",
       "      <th>0</th>\n",
       "      <td>15-10-14 6:58</td>\n",
       "      <td>221.32112</td>\n",
       "      <td>data</td>\n",
       "      <td>2014-11</td>\n",
       "      <td>data</td>\n",
       "      <td>data</td>\n",
       "    </tr>\n",
       "  </tbody>\n",
       "</table>\n",
       "</div>"
      ],
      "text/plain": [
       "            date   duration  item    month network network_type\n",
       "0  15-10-14 6:58  221.32112  data  2014-11    data         data"
      ]
     },
     "execution_count": 269,
     "metadata": {},
     "output_type": "execute_result"
    }
   ],
   "source": [
    "df1.head(1)"
   ]
  },
  {
   "cell_type": "code",
   "execution_count": 21,
   "metadata": {},
   "outputs": [
    {
     "data": {
      "text/html": [
       "<div>\n",
       "<style scoped>\n",
       "    .dataframe tbody tr th:only-of-type {\n",
       "        vertical-align: middle;\n",
       "    }\n",
       "\n",
       "    .dataframe tbody tr th {\n",
       "        vertical-align: top;\n",
       "    }\n",
       "\n",
       "    .dataframe thead th {\n",
       "        text-align: right;\n",
       "    }\n",
       "</style>\n",
       "<table border=\"1\" class=\"dataframe\">\n",
       "  <thead>\n",
       "    <tr style=\"text-align: right;\">\n",
       "      <th>network_type</th>\n",
       "      <th>data</th>\n",
       "      <th>landline</th>\n",
       "      <th>mobile</th>\n",
       "      <th>voicemail</th>\n",
       "    </tr>\n",
       "    <tr>\n",
       "      <th>network</th>\n",
       "      <th></th>\n",
       "      <th></th>\n",
       "      <th></th>\n",
       "      <th></th>\n",
       "    </tr>\n",
       "  </thead>\n",
       "  <tbody>\n",
       "    <tr>\n",
       "      <th>Meteor</th>\n",
       "      <td>0</td>\n",
       "      <td>0</td>\n",
       "      <td>87</td>\n",
       "      <td>0</td>\n",
       "    </tr>\n",
       "    <tr>\n",
       "      <th>Tesco</th>\n",
       "      <td>0</td>\n",
       "      <td>0</td>\n",
       "      <td>84</td>\n",
       "      <td>0</td>\n",
       "    </tr>\n",
       "    <tr>\n",
       "      <th>Three</th>\n",
       "      <td>0</td>\n",
       "      <td>0</td>\n",
       "      <td>215</td>\n",
       "      <td>0</td>\n",
       "    </tr>\n",
       "    <tr>\n",
       "      <th>Vodafone</th>\n",
       "      <td>0</td>\n",
       "      <td>0</td>\n",
       "      <td>215</td>\n",
       "      <td>0</td>\n",
       "    </tr>\n",
       "    <tr>\n",
       "      <th>data</th>\n",
       "      <td>150</td>\n",
       "      <td>0</td>\n",
       "      <td>0</td>\n",
       "      <td>0</td>\n",
       "    </tr>\n",
       "    <tr>\n",
       "      <th>landline</th>\n",
       "      <td>0</td>\n",
       "      <td>42</td>\n",
       "      <td>0</td>\n",
       "      <td>0</td>\n",
       "    </tr>\n",
       "    <tr>\n",
       "      <th>voicemail</th>\n",
       "      <td>0</td>\n",
       "      <td>0</td>\n",
       "      <td>0</td>\n",
       "      <td>27</td>\n",
       "    </tr>\n",
       "  </tbody>\n",
       "</table>\n",
       "</div>"
      ],
      "text/plain": [
       "network_type  data  landline  mobile  voicemail\n",
       "network                                        \n",
       "Meteor           0         0      87          0\n",
       "Tesco            0         0      84          0\n",
       "Three            0         0     215          0\n",
       "Vodafone         0         0     215          0\n",
       "data           150         0       0          0\n",
       "landline         0        42       0          0\n",
       "voicemail        0         0       0         27"
      ]
     },
     "execution_count": 21,
     "metadata": {},
     "output_type": "execute_result"
    }
   ],
   "source": [
    "tab=pd.crosstab(df1[\"network\"],df1[\"network_type\"])\n",
    "tab"
   ]
  },
  {
   "cell_type": "code",
   "execution_count": 22,
   "metadata": {},
   "outputs": [],
   "source": [
    "obs=tab.values"
   ]
  },
  {
   "cell_type": "code",
   "execution_count": 23,
   "metadata": {},
   "outputs": [
    {
     "data": {
      "text/plain": [
       "5.373015859867959"
      ]
     },
     "execution_count": 23,
     "metadata": {},
     "output_type": "execute_result"
    }
   ],
   "source": [
    "chicrit=stats.chi.isf(alpha,df=18)\n",
    "chicrit"
   ]
  },
  {
   "cell_type": "code",
   "execution_count": 24,
   "metadata": {},
   "outputs": [
    {
     "name": "stdout",
     "output_type": "stream",
     "text": [
      "chistat 2460.0\n",
      "pval 0.0\n",
      "dof 18\n"
     ]
    }
   ],
   "source": [
    "chi,p,dof,exp=stats.chi2_contingency(obs,correction=False)\n",
    "chi,p,dof\n",
    "print(\"chistat\",chi)\n",
    "print(\"pval\",p)\n",
    "print(\"dof\",dof)"
   ]
  },
  {
   "cell_type": "code",
   "execution_count": 25,
   "metadata": {},
   "outputs": [
    {
     "name": "stdout",
     "output_type": "stream",
     "text": [
      "[[ 15.91463415   4.45609756  63.76463415   2.86463415]\n",
      " [ 15.36585366   4.30243902  61.56585366   2.76585366]\n",
      " [ 39.32926829  11.01219512 157.57926829   7.07926829]\n",
      " [ 39.32926829  11.01219512 157.57926829   7.07926829]\n",
      " [ 27.43902439   7.68292683 109.93902439   4.93902439]\n",
      " [  7.68292683   2.15121951  30.78292683   1.38292683]\n",
      " [  4.93902439   1.38292683  19.78902439   0.88902439]]\n"
     ]
    }
   ],
   "source": [
    "print(exp)"
   ]
  },
  {
   "cell_type": "code",
   "execution_count": 282,
   "metadata": {},
   "outputs": [
    {
     "name": "stdout",
     "output_type": "stream",
     "text": [
      "reject null\n"
     ]
    }
   ],
   "source": [
    "if chicrit<chi:\n",
    "    print(\"reject null\")\n",
    "else:\n",
    "    print(\"fail to reject null\")"
   ]
  },
  {
   "cell_type": "code",
   "execution_count": 276,
   "metadata": {},
   "outputs": [
    {
     "name": "stdout",
     "output_type": "stream",
     "text": [
      "reject null\n"
     ]
    }
   ],
   "source": [
    "if p<alpha:\n",
    "    print(\"reject null\")\n",
    "else:\n",
    "    print(\"fail to reject null\")"
   ]
  },
  {
   "cell_type": "markdown",
   "metadata": {},
   "source": [
    "# Hence,we conclude there is relation between network and network_type"
   ]
  },
  {
   "cell_type": "markdown",
   "metadata": {},
   "source": [
    "# END"
   ]
  }
 ],
 "metadata": {
  "kernelspec": {
   "display_name": "Python 3",
   "language": "python",
   "name": "python3"
  },
  "language_info": {
   "codemirror_mode": {
    "name": "ipython",
    "version": 3
   },
   "file_extension": ".py",
   "mimetype": "text/x-python",
   "name": "python",
   "nbconvert_exporter": "python",
   "pygments_lexer": "ipython3",
   "version": "3.9.2"
  }
 },
 "nbformat": 4,
 "nbformat_minor": 4
}
